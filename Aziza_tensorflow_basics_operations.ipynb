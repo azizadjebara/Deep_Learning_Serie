{
  "nbformat": 4,
  "nbformat_minor": 0,
  "metadata": {
    "colab": {
      "name": "Aziza_tensorflow_basics_operations.ipynb",
      "provenance": []
    },
    "kernelspec": {
      "display_name": "Python 3",
      "language": "python",
      "name": "python3"
    },
    "language_info": {
      "codemirror_mode": {
        "name": "ipython",
        "version": 3
      },
      "file_extension": ".py",
      "mimetype": "text/x-python",
      "name": "python",
      "nbconvert_exporter": "python",
      "pygments_lexer": "ipython3",
      "version": "3.7.6"
    },
    "toc": {
      "base_numbering": 1,
      "nav_menu": {},
      "number_sections": true,
      "sideBar": true,
      "skip_h1_title": false,
      "title_cell": "Table of Contents",
      "title_sidebar": "Contents",
      "toc_cell": false,
      "toc_position": {},
      "toc_section_display": true,
      "toc_window_display": false
    },
    "varInspector": {
      "cols": {
        "lenName": 16,
        "lenType": 16,
        "lenVar": 40
      },
      "kernels_config": {
        "python": {
          "delete_cmd_postfix": "",
          "delete_cmd_prefix": "del ",
          "library": "var_list.py",
          "varRefreshCmd": "print(var_dic_list())"
        },
        "r": {
          "delete_cmd_postfix": ") ",
          "delete_cmd_prefix": "rm(",
          "library": "var_list.r",
          "varRefreshCmd": "cat(var_dic_list()) "
        }
      },
      "types_to_exclude": [
        "module",
        "function",
        "builtin_function_or_method",
        "instance",
        "_Feature"
      ],
      "window_display": false
    }
  },
  "cells": [
    {
      "cell_type": "markdown",
      "metadata": {
        "id": "5HyoCUKmJ_52"
      },
      "source": [
        "# TensorFlow basics:"
      ]
    },
    {
      "cell_type": "code",
      "metadata": {
        "id": "dmpRH82IJ_6C"
      },
      "source": [
        "#Steps to reproduce:\n",
        "\n",
        "#Installation:\n",
        "\n",
        "#pip install --upgrade pip\n",
        "#!pip install tensorflow==2.0.0-alpha0\n",
        "#or\n",
        "# !pip install tensorflow\n",
        "# OR\n",
        "# !pip install --user tensorflow-gpu"
      ],
      "execution_count": null,
      "outputs": []
    },
    {
      "cell_type": "code",
      "metadata": {
        "ExecuteTime": {
          "end_time": "2021-08-27T12:27:44.159839Z",
          "start_time": "2021-08-27T12:27:44.145847Z"
        },
        "id": "4wXgRygmJ_6G"
      },
      "source": [
        "import warnings\n",
        "warnings.filterwarnings('ignore')\n",
        "tf.compat.v1.disable_eager_execution()\n",
        "import numpy as np\n",
        "import tensorflow.compat.v1 as tf"
      ],
      "execution_count": null,
      "outputs": []
    },
    {
      "cell_type": "markdown",
      "metadata": {
        "id": "_uV2U-Y8J_6H"
      },
      "source": [
        "## Hello World!"
      ]
    },
    {
      "cell_type": "code",
      "metadata": {
        "ExecuteTime": {
          "end_time": "2021-08-27T12:28:06.997298Z",
          "start_time": "2021-08-27T12:28:05.032450Z"
        },
        "colab": {
          "base_uri": "https://localhost:8080/"
        },
        "id": "l6ENOED_J_6I",
        "outputId": "ef6e5b4d-b287-4bbe-9b2b-3451f8aed290"
      },
      "source": [
        "hello = tf.constant(\"Hello World!\")\n",
        "with tf.Session() as sess:\n",
        "    print(sess.run(hello))"
      ],
      "execution_count": null,
      "outputs": [
        {
          "output_type": "stream",
          "name": "stdout",
          "text": [
            "b'Hello World!'\n"
          ]
        }
      ]
    },
    {
      "cell_type": "markdown",
      "metadata": {
        "id": "1FOhOCWHJ_6K"
      },
      "source": [
        "## Creating tensors:"
      ]
    },
    {
      "cell_type": "code",
      "metadata": {
        "id": "jXwQkr0zJ_6L"
      },
      "source": [
        "hello = tf.constant(\"Hello World!\")                         # String.\n",
        "const_scalar = tf.constant(7)                               # A scalar tensor.\n",
        "const_matrix = tf.constant([[1,2], [3,4]])                  # A matrix tensor.\n",
        "mat_fill = tf.fill((4,4),9)                                 # A 4x4 tensor filled with 9s.\n",
        "mat_zeros = tf.zeros((3,3))                                 # A 3x3 tensor filled with 0s.\n",
        "mat_ones = tf.ones((5,5))                                   # A 5x5 tensor filled with 1s.\n",
        "mat_randn = tf.random.normal((3,3), mean=0, stddev=1.0)     # 3x3 random normal tensor.\n",
        "mat_randu = tf.random.uniform((4,4), minval=0, maxval=1.0)  # 4x4 random uniform tensor."
      ],
      "execution_count": null,
      "outputs": []
    },
    {
      "cell_type": "code",
      "metadata": {
        "colab": {
          "base_uri": "https://localhost:8080/"
        },
        "id": "VNOWgV94gaUS",
        "outputId": "5545bc77-1610-4867-f271-d6f1e3154962"
      },
      "source": [
        "my_ops=[hello, const_scalar, const_matrix, mat_fill, mat_zeros, mat_ones, mat_randn, mat_randu]\n",
        "\n",
        "print(type(my_ops))\n",
        "print('\\n')\n",
        "print(my_ops)\n",
        "print('\\n')"
      ],
      "execution_count": null,
      "outputs": [
        {
          "output_type": "stream",
          "name": "stdout",
          "text": [
            "<class 'list'>\n",
            "\n",
            "\n",
            "[<tf.Tensor 'Const_2:0' shape=() dtype=string>, <tf.Tensor 'Const_3:0' shape=() dtype=int32>, <tf.Tensor 'Const_4:0' shape=(2, 2) dtype=int32>, <tf.Tensor 'Fill:0' shape=(4, 4) dtype=int32>, <tf.Tensor 'zeros:0' shape=(3, 3) dtype=float32>, <tf.Tensor 'ones:0' shape=(5, 5) dtype=float32>, <tf.Tensor 'random_normal:0' shape=(3, 3) dtype=float32>, <tf.Tensor 'random_uniform/Mul:0' shape=(4, 4) dtype=float32>]\n",
            "\n",
            "\n"
          ]
        }
      ]
    },
    {
      "cell_type": "code",
      "metadata": {
        "colab": {
          "base_uri": "https://localhost:8080/"
        },
        "id": "5fz0RrrtgVpt",
        "outputId": "f5740928-4580-491e-907f-d6393621f604"
      },
      "source": [
        "my_ops=[hello, const_scalar, const_matrix, mat_fill, mat_zeros, mat_ones, mat_randn, mat_randu]\n",
        "with tf.Session() as sess:\n",
        "    for op in my_ops:\n",
        "        res = sess.run(op)\n",
        "        print(type(res))\n",
        "        print('\\n')\n",
        "        print(res)\n",
        "        print('\\n')"
      ],
      "execution_count": null,
      "outputs": [
        {
          "output_type": "stream",
          "name": "stdout",
          "text": [
            "<class 'bytes'>\n",
            "\n",
            "\n",
            "b'Hello World!'\n",
            "\n",
            "\n",
            "<class 'numpy.int32'>\n",
            "\n",
            "\n",
            "7\n",
            "\n",
            "\n",
            "<class 'numpy.ndarray'>\n",
            "\n",
            "\n",
            "[[1 2]\n",
            " [3 4]]\n",
            "\n",
            "\n",
            "<class 'numpy.ndarray'>\n",
            "\n",
            "\n",
            "[[9 9 9 9]\n",
            " [9 9 9 9]\n",
            " [9 9 9 9]\n",
            " [9 9 9 9]]\n",
            "\n",
            "\n",
            "<class 'numpy.ndarray'>\n",
            "\n",
            "\n",
            "[[0. 0. 0.]\n",
            " [0. 0. 0.]\n",
            " [0. 0. 0.]]\n",
            "\n",
            "\n",
            "<class 'numpy.ndarray'>\n",
            "\n",
            "\n",
            "[[1. 1. 1. 1. 1.]\n",
            " [1. 1. 1. 1. 1.]\n",
            " [1. 1. 1. 1. 1.]\n",
            " [1. 1. 1. 1. 1.]\n",
            " [1. 1. 1. 1. 1.]]\n",
            "\n",
            "\n",
            "<class 'numpy.ndarray'>\n",
            "\n",
            "\n",
            "[[-0.62065506  0.10994942 -0.55866677]\n",
            " [ 0.9306277   1.0799291   0.04757516]\n",
            " [-0.9343392   0.3755288  -1.4800427 ]]\n",
            "\n",
            "\n",
            "<class 'numpy.ndarray'>\n",
            "\n",
            "\n",
            "[[0.15752435 0.64756155 0.9300977  0.24590456]\n",
            " [0.33499587 0.49319494 0.60859597 0.19385362]\n",
            " [0.19640648 0.44625401 0.6487529  0.9640591 ]\n",
            " [0.6162256  0.11990654 0.99853003 0.83484054]]\n",
            "\n",
            "\n"
          ]
        }
      ]
    },
    {
      "cell_type": "markdown",
      "metadata": {
        "id": "sKBeb0wfJ_6R"
      },
      "source": [
        "## Math operations:"
      ]
    },
    {
      "cell_type": "markdown",
      "metadata": {
        "id": "CHvbejqhJ_6T"
      },
      "source": [
        "create two scalars ``n1`` and ``n2``  using ``tf.constant`` with any value of your choice and do the following operations: \n",
        "- **multplication** using ``tf.multiply`` and ``*``\n",
        "- **addition** using ``tf.add`` and ``+``\n",
        "- **pow** using ``tf.pow``\n",
        "\n",
        "save each operation in a variable and run them using :\n",
        "\n",
        "``\n",
        "with tf.Session() as sess:\n",
        "    sess.run(...)\n",
        "    ...\n",
        "``    "
      ]
    },
    {
      "cell_type": "code",
      "metadata": {
        "id": "-3ULdoywJ_6U",
        "colab": {
          "base_uri": "https://localhost:8080/"
        },
        "outputId": "ef0c119c-527a-4efe-c08b-0ba938bba4d8"
      },
      "source": [
        "n1 = tf.constant(1)\n",
        "n2 = tf.constant(2)\n",
        "n3 = n1* n2\n",
        "with tf.Session() as sess:\n",
        "    print(sess.run(n3))"
      ],
      "execution_count": null,
      "outputs": [
        {
          "output_type": "stream",
          "name": "stdout",
          "text": [
            "2\n"
          ]
        }
      ]
    },
    {
      "cell_type": "code",
      "metadata": {
        "id": "uYl8CUM_J_6V",
        "colab": {
          "base_uri": "https://localhost:8080/"
        },
        "outputId": "359e39f7-2d67-4c2e-ce4b-19ec2176d41c"
      },
      "source": [
        "n1 = tf.constant(4)\n",
        "n2 = tf.constant(5)\n",
        "n3 = tf.add(n1,n2)\n",
        "with tf.Session() as sess:\n",
        "    print(sess.run(n3))"
      ],
      "execution_count": null,
      "outputs": [
        {
          "output_type": "stream",
          "name": "stdout",
          "text": [
            "9\n"
          ]
        }
      ]
    },
    {
      "cell_type": "code",
      "metadata": {
        "id": "uq3T1FNfJ_6W",
        "colab": {
          "base_uri": "https://localhost:8080/"
        },
        "outputId": "63c09bde-a46b-4b89-ca6b-faa9ccf59518"
      },
      "source": [
        "n1 = tf.constant(2)\n",
        "n2 = tf.constant(3)\n",
        "n3 = tf.multiply(n1,n2)\n",
        "with tf.Session() as sess:\n",
        "    print(sess.run(n3))"
      ],
      "execution_count": null,
      "outputs": [
        {
          "output_type": "stream",
          "name": "stdout",
          "text": [
            "6\n"
          ]
        }
      ]
    },
    {
      "cell_type": "code",
      "metadata": {
        "id": "2QMyKZUFJ_6X",
        "colab": {
          "base_uri": "https://localhost:8080/"
        },
        "outputId": "2ae51fb6-893d-4978-c7ab-3a648577b4d4"
      },
      "source": [
        "n1 = tf.constant(2)\n",
        "n2 = tf.constant(3)\n",
        "n3 = tf.pow(n1,n2)\n",
        "with tf.Session() as sess:\n",
        "    print(sess.run(n3))"
      ],
      "execution_count": null,
      "outputs": [
        {
          "output_type": "stream",
          "name": "stdout",
          "text": [
            "8\n"
          ]
        }
      ]
    },
    {
      "cell_type": "markdown",
      "metadata": {
        "id": "mtAp_7RFJ_6Y"
      },
      "source": [
        "## Matrix functions and operations:"
      ]
    },
    {
      "cell_type": "markdown",
      "metadata": {
        "id": "MkhTIzF2J_6Y"
      },
      "source": [
        "create two variables ``tf.constant([[1,2], [3,4]])`` and ``tf.constant([[5, 6], [7, 8]])``\n",
        "then perfom ``tf.matmul`` and ``tf.multiply``.\n",
        "- run them using session.run() (just like the previous example)\n",
        "- conclude the difference between the two operations"
      ]
    },
    {
      "cell_type": "code",
      "metadata": {
        "id": "TFESDvd5J_6Y",
        "colab": {
          "base_uri": "https://localhost:8080/"
        },
        "outputId": "e921fc55-7471-4336-cfb1-90bb673de155"
      },
      "source": [
        "m1 = tf.constant([[1,2], [3,4]])\n",
        "m2 = tf.constant([[1], [2]])\n",
        "m3 = tf.matmul(m1, m2)                            # Matrix multiplication. Different from the element-wise multiplication with multiply().\n",
        "with tf.Session() as sess:\n",
        "    print(sess.run(m3))"
      ],
      "execution_count": null,
      "outputs": [
        {
          "output_type": "stream",
          "name": "stdout",
          "text": [
            "[[ 5]\n",
            " [11]]\n"
          ]
        }
      ]
    },
    {
      "cell_type": "code",
      "metadata": {
        "ExecuteTime": {
          "end_time": "2021-08-27T12:56:20.191710Z",
          "start_time": "2021-08-27T12:56:20.157729Z"
        },
        "id": "qVkLKdusJ_6Z",
        "colab": {
          "base_uri": "https://localhost:8080/"
        },
        "outputId": "6785a93b-e00b-4082-f885-b9667b869916"
      },
      "source": [
        "m1 = tf.constant([[1,2], [3,4]])\n",
        "m2 = tf.constant([[5, 6], [7, 8]])\n",
        "print(m1.shape)\n",
        "print(m1)\n",
        "print(m2)\n",
        "m3 = tf.matmul(m1, m2) # rows×columns\n",
        "with tf.Session() as sess:\n",
        "    print(sess.run(m1))\n",
        "    print(sess.run(m2))\n",
        "    print(sess.run(m3))"
      ],
      "execution_count": null,
      "outputs": [
        {
          "output_type": "stream",
          "name": "stdout",
          "text": [
            "(2, 2)\n",
            "Tensor(\"Const_15:0\", shape=(2, 2), dtype=int32)\n",
            "Tensor(\"Const_16:0\", shape=(2, 2), dtype=int32)\n",
            "[[1 2]\n",
            " [3 4]]\n",
            "[[5 6]\n",
            " [7 8]]\n",
            "[[19 22]\n",
            " [43 50]]\n"
          ]
        }
      ]
    },
    {
      "cell_type": "code",
      "metadata": {
        "ExecuteTime": {
          "end_time": "2021-08-27T12:57:00.207520Z",
          "start_time": "2021-08-27T12:57:00.041239Z"
        },
        "id": "cLtGW-PrJ_6d",
        "colab": {
          "base_uri": "https://localhost:8080/"
        },
        "outputId": "c15329da-2143-4448-8463-ece05a05a804"
      },
      "source": [
        "m3 = tf.multiply(m1, m2)\n",
        "with tf.Session() as sess:\n",
        "    print(sess.run(m3))"
      ],
      "execution_count": null,
      "outputs": [
        {
          "output_type": "stream",
          "name": "stdout",
          "text": [
            "[[ 5 12]\n",
            " [21 32]]\n"
          ]
        }
      ]
    },
    {
      "cell_type": "code",
      "metadata": {
        "id": "SLAgTOKzJ_6e",
        "colab": {
          "base_uri": "https://localhost:8080/"
        },
        "outputId": "44a42a88-6543-4b7a-b4f0-e488ad34de19"
      },
      "source": [
        "m3 = m1*m2\n",
        "with tf.Session() as sess:\n",
        "    print(sess.run(m3))"
      ],
      "execution_count": null,
      "outputs": [
        {
          "output_type": "stream",
          "name": "stdout",
          "text": [
            "[[ 5 12]\n",
            " [21 32]]\n"
          ]
        }
      ]
    },
    {
      "cell_type": "markdown",
      "metadata": {
        "id": "Mpc4KtssJ_6f"
      },
      "source": [
        "perform also ``+`` , ``-`` , ``/`` , use round with the last operation with 3 decimal places after comma."
      ]
    },
    {
      "cell_type": "code",
      "metadata": {
        "id": "oFMNYGVzJ_6f",
        "colab": {
          "base_uri": "https://localhost:8080/"
        },
        "outputId": "eb27ad3c-0629-40aa-f938-27871728a0a4"
      },
      "source": [
        "m3 = m1 + m2\n",
        "with tf.Session() as sess:\n",
        "    print(sess.run(m3))"
      ],
      "execution_count": null,
      "outputs": [
        {
          "output_type": "stream",
          "name": "stdout",
          "text": [
            "[[ 6  8]\n",
            " [10 12]]\n"
          ]
        }
      ]
    },
    {
      "cell_type": "code",
      "metadata": {
        "id": "2Z1HxMxdJ_6f",
        "colab": {
          "base_uri": "https://localhost:8080/"
        },
        "outputId": "22dad048-475c-4710-d5a7-8ef79bd8d3e7"
      },
      "source": [
        "m3 = m1-m2\n",
        "with tf.Session() as sess:\n",
        "    print(sess.run(m3))"
      ],
      "execution_count": null,
      "outputs": [
        {
          "output_type": "stream",
          "name": "stdout",
          "text": [
            "[[-4 -4]\n",
            " [-4 -4]]\n"
          ]
        }
      ]
    },
    {
      "cell_type": "code",
      "metadata": {
        "id": "Kc1q0UedJ_6g",
        "colab": {
          "base_uri": "https://localhost:8080/"
        },
        "outputId": "7b412d9e-2c43-480e-f18c-9f205a4d7314"
      },
      "source": [
        "m3 = m1 / m2\n",
        "with tf.Session() as sess:\n",
        "    print(np.round(sess.run(m3),3))"
      ],
      "execution_count": null,
      "outputs": [
        {
          "output_type": "stream",
          "name": "stdout",
          "text": [
            "[[0.2   0.333]\n",
            " [0.429 0.5  ]]\n"
          ]
        }
      ]
    },
    {
      "cell_type": "markdown",
      "metadata": {
        "id": "ylvS4G51J_6g"
      },
      "source": [
        "here are some other operations you can do using constant variables"
      ]
    },
    {
      "cell_type": "code",
      "metadata": {
        "id": "HSfGVIbHJ_6g",
        "colab": {
          "base_uri": "https://localhost:8080/"
        },
        "outputId": "d13027e0-e6a3-4e84-83f6-deb29fa8970c"
      },
      "source": [
        "# Matrix functions.\n",
        "m = tf.constant([[1.0,2.0],[3.0,4.0]])\n",
        "m_diagonal = tf.matrix_diag([1,2,3])\n",
        "m_transpose = tf.matrix_transpose(m)\n",
        "m_inverse = tf.matrix_inverse(m)\n",
        "m_multiplied = tf.matmul(m, m_inverse)\n",
        "m_determinant = tf.matrix_determinant(m)\n",
        "my_matrices = [m, m_diagonal, m_transpose, m_inverse, m_multiplied, m_determinant]\n",
        "with tf.Session() as sess:\n",
        "    for mat in my_matrices:\n",
        "        res = sess.run(mat)\n",
        "        print(np.round(res,3))\n",
        "        print('\\n')"
      ],
      "execution_count": null,
      "outputs": [
        {
          "output_type": "stream",
          "name": "stdout",
          "text": [
            "[[1. 2.]\n",
            " [3. 4.]]\n",
            "\n",
            "\n",
            "[[1 0 0]\n",
            " [0 2 0]\n",
            " [0 0 3]]\n",
            "\n",
            "\n",
            "[[1. 3.]\n",
            " [2. 4.]]\n",
            "\n",
            "\n",
            "[[-2.   1. ]\n",
            " [ 1.5 -0.5]]\n",
            "\n",
            "\n",
            "[[ 1.  0.]\n",
            " [-0.  1.]]\n",
            "\n",
            "\n",
            "-2.0\n",
            "\n",
            "\n"
          ]
        }
      ]
    },
    {
      "cell_type": "markdown",
      "metadata": {
        "id": "DcOoL_PcJ_6h"
      },
      "source": [
        "## TensorFlow Variable:"
      ]
    },
    {
      "cell_type": "markdown",
      "metadata": {
        "id": "-7ds2K5bJ_6h"
      },
      "source": [
        "there are threee way to initialize your variables"
      ]
    },
    {
      "cell_type": "code",
      "metadata": {
        "id": "kKA6QUf3J_6h",
        "colab": {
          "base_uri": "https://localhost:8080/"
        },
        "outputId": "4cc5f0ed-02dd-4949-8af2-dc6d5f0c936a"
      },
      "source": [
        "# Initializing Variables #1\n",
        "x = tf.Variable(initial_value=5, name='x')       # Define.\n",
        "y = tf.Variable(initial_value=6, name='y')       # Define.\n",
        "f = (x - y)*y + 3                                # Define.\n",
        "sess = tf.Session()\n",
        "sess.run(x.initializer)                          # Initialize.\n",
        "sess.run(y.initializer)                          # Initialize. \n",
        "res = sess.run(f)  \n",
        "print(res)\n",
        "sess.close()"
      ],
      "execution_count": null,
      "outputs": [
        {
          "output_type": "stream",
          "name": "stdout",
          "text": [
            "-3\n"
          ]
        }
      ]
    },
    {
      "cell_type": "code",
      "metadata": {
        "id": "xuBNlACsJ_6i",
        "colab": {
          "base_uri": "https://localhost:8080/"
        },
        "outputId": "db36d5d7-8968-4eff-f81b-256c5f9b7d2d"
      },
      "source": [
        "# Initializing Variables #2\n",
        "x = tf.Variable(initial_value=3, name='x')       # Define.\n",
        "y = tf.Variable(initial_value=2, name='y')       # Define.\n",
        "f = x*y + y + 3                                  # Define.\n",
        "with tf.Session() as sess:\n",
        "    x.initializer.run()                          # Initialize. The same as \"sess.run(x.initializer)\".\n",
        "    y.initializer.run()                          # Initialize. The same as \"sess.run(y.initializer)\".\n",
        "    res = f.eval()                               # The same as \"res = sess.run(f)\".\n",
        "print(res)"
      ],
      "execution_count": null,
      "outputs": [
        {
          "output_type": "stream",
          "name": "stdout",
          "text": [
            "11\n"
          ]
        }
      ]
    },
    {
      "cell_type": "markdown",
      "metadata": {
        "id": "H3pL96FZJ_6j"
      },
      "source": [
        "the following initialization method is the widely used "
      ]
    },
    {
      "cell_type": "code",
      "metadata": {
        "id": "eJ_-bm_jJ_6j",
        "colab": {
          "base_uri": "https://localhost:8080/"
        },
        "outputId": "1103c3a1-3944-4b5d-c373-34d7139623ae"
      },
      "source": [
        "# Initializing Variables #3\n",
        "x = tf.Variable(initial_value=7, name='x')       # Define.\n",
        "y = tf.Variable(initial_value=3, name='y')       # Define.\n",
        "f = x*y*y - y - 1                                # Define.\n",
        "init = tf.global_variables_initializer()         # will go through all variables and initialize them \n",
        "with tf.Session() as sess:\n",
        "    sess.run(init)                               # Initialize wil happen after running sess.run(init).\n",
        "    res = f.eval()                               # The same as \"res = sess.run(f)\".\n",
        "print(res)"
      ],
      "execution_count": null,
      "outputs": [
        {
          "output_type": "stream",
          "name": "stdout",
          "text": [
            "59\n"
          ]
        }
      ]
    },
    {
      "cell_type": "markdown",
      "metadata": {
        "id": "0wdjwPnvJ_6k"
      },
      "source": [
        "- create ``my_tensor`` using tf.random_uniform of shape ``(4,4)`` of zero mean and 1 std\n",
        "- create ``my_var`` using ``tf.Variable`` with an initial value ``my_tensor``\n",
        "- run a global initializer using ``tf.global_variables_initializer`` and store it in ``init``\n",
        "- start a session as usual and run ``init`` to initialize your variables "
      ]
    },
    {
      "cell_type": "code",
      "metadata": {
        "id": "ov8yOmD_J_6k",
        "colab": {
          "base_uri": "https://localhost:8080/"
        },
        "outputId": "1ac14d38-f92d-4171-8cc5-9823fde659e1"
      },
      "source": [
        "my_tensor = tf.random_uniform((4,4),0,1)\n",
        "my_var = tf.Variable(initial_value = my_tensor)                  # Initial value from a tensor.\n",
        "#my_matrix = np.random.uniform(0,1,(4,4))\n",
        "#my_var = tf.Variable(initial_value = my_matrix)                  # Initial value from a Numpy array.\n",
        "init = tf.global_variables_initializer()\n",
        "with tf.Session() as sess:\n",
        "    sess.run(init)                                               \n",
        "    print(sess.run(my_var))"
      ],
      "execution_count": null,
      "outputs": [
        {
          "output_type": "stream",
          "name": "stdout",
          "text": [
            "[[0.17562461 0.5928023  0.8606843  0.9228655 ]\n",
            " [0.9084159  0.98577344 0.20988381 0.93005013]\n",
            " [0.4533218  0.20286036 0.91993654 0.6954812 ]\n",
            " [0.1030165  0.38092995 0.67887974 0.8067962 ]]\n"
          ]
        }
      ]
    },
    {
      "cell_type": "markdown",
      "metadata": {
        "id": "n-ZfxuDLJ_6l"
      },
      "source": [
        "## TensorFlow Placeholder"
      ]
    },
    {
      "cell_type": "markdown",
      "metadata": {
        "id": "YVAjNm9LJ_6l"
      },
      "source": [
        "placeholders are different , they got initialized through run function using the ``feed_dict``.\n",
        "\n",
        "**usage :** imagine a placeholder as booking a table at a restaurant ,in our case the guests are the input , you guessed it right **placeholders are used for input data** one cool property of placeholders is that you don't need to set number of observations\n",
        "<br>\n",
        "\n",
        "here's an example :"
      ]
    },
    {
      "cell_type": "code",
      "metadata": {
        "id": "_BZ15gckJ_6l",
        "colab": {
          "base_uri": "https://localhost:8080/"
        },
        "outputId": "87ccd414-90a7-4c57-aeb4-1b854b933a12"
      },
      "source": [
        "a = tf.placeholder(tf.float32)\n",
        "b = tf.placeholder(tf.float32)\n",
        "y = tf.multiply(a, b)\n",
        "with tf.Session() as sess:\n",
        "    res = sess.run(y, feed_dict={a:2, b:3})           # Feed the actual valules.\n",
        "    print(res)"
      ],
      "execution_count": null,
      "outputs": [
        {
          "output_type": "stream",
          "name": "stdout",
          "text": [
            "6.0\n"
          ]
        }
      ]
    },
    {
      "cell_type": "code",
      "metadata": {
        "id": "bw9BSsxZJ_6m",
        "colab": {
          "base_uri": "https://localhost:8080/"
        },
        "outputId": "9b9e7d17-858b-436a-d86e-9e44aa461b07"
      },
      "source": [
        "# Simulated data as NumPy array.\n",
        "np.random.seed(123)\n",
        "X1 = np.random.uniform(0.0, 1.0, (3,3))\n",
        "X2 = np.random.normal(0.0, 1.0, (10,3))\n",
        "b0 = np.array([1,2,3]).reshape((-1,1))\n",
        "#\n",
        "# The data may be a DataFrame.\n",
        "# X1 = pd.DataFrame(X1)\n",
        "# X2 = pd.DataFrame(X2)\n",
        "#\n",
        "X = tf.placeholder(tf.float32, shape=(None,3))       # \"None\" means that the number of rows is still undefined. \n",
        "b = tf.placeholder(tf.float32, shape=(3,1))\n",
        "y = tf.matmul(X, b)\n",
        "with tf.Session() as sess:\n",
        "    print(sess.run(y, feed_dict={X:X1, b:b0}))       # Feed in the data.\n",
        "    print(\"\\n\")\n",
        "    print(sess.run(y, feed_dict={X:X2, b:b0}))       # Feed in the data."
      ],
      "execution_count": null,
      "outputs": [
        {
          "output_type": "stream",
          "name": "stdout",
          "text": [
            "[[1.9493022]\n",
            " [3.259572 ]\n",
            " [3.7932193]]\n",
            "\n",
            "\n",
            "[[-5.1895514 ]\n",
            " [-0.47591597]\n",
            " [ 0.76363635]\n",
            " [ 4.6815934 ]\n",
            " [ 6.4029546 ]\n",
            " [-5.6862936 ]\n",
            " [-4.963093  ]\n",
            " [-8.809272  ]\n",
            " [-5.3064833 ]\n",
            " [ 3.0540478 ]]\n"
          ]
        }
      ]
    }
  ]
}